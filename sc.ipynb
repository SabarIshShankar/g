{
  "nbformat": 4,
  "nbformat_minor": 0,
  "metadata": {
    "colab": {
      "name": "Untitled2.ipynb",
      "provenance": [],
      "collapsed_sections": []
    },
    "kernelspec": {
      "name": "python3",
      "display_name": "Python 3"
    },
    "language_info": {
      "name": "python"
    }
  },
  "cells": [
    {
      "cell_type": "code",
      "execution_count": 5,
      "metadata": {
        "colab": {
          "resources": {
            "http://localhost:8080/nbextensions/google.colab/files.js": {
              "data": "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",
              "ok": true,
              "headers": [
                [
                  "content-type",
                  "application/javascript"
                ]
              ],
              "status": 200,
              "status_text": ""
            }
          },
          "base_uri": "https://localhost:8080/",
          "height": 73
        },
        "id": "NMX1Q4NBjW4U",
        "outputId": "e1e471c0-425c-4b5a-e926-4795e6516d2b"
      },
      "outputs": [
        {
          "output_type": "display_data",
          "data": {
            "text/plain": [
              "<IPython.core.display.HTML object>"
            ],
            "text/html": [
              "\n",
              "     <input type=\"file\" id=\"files-9f0f6e79-deb9-4b89-9bf0-d4a5369b80f5\" name=\"files[]\" multiple disabled\n",
              "        style=\"border:none\" />\n",
              "     <output id=\"result-9f0f6e79-deb9-4b89-9bf0-d4a5369b80f5\">\n",
              "      Upload widget is only available when the cell has been executed in the\n",
              "      current browser session. Please rerun this cell to enable.\n",
              "      </output>\n",
              "      <script src=\"/nbextensions/google.colab/files.js\"></script> "
            ]
          },
          "metadata": {}
        },
        {
          "output_type": "stream",
          "name": "stdout",
          "text": [
            "Saving discount_code_conversion.csv to discount_code_conversion (1).csv\n"
          ]
        }
      ],
      "source": [
        "from google.colab import files\n",
        "\n",
        "uploaded = files.upload()"
      ]
    },
    {
      "cell_type": "code",
      "source": [
        "import pandas as pd\n",
        "import io\n",
        "\n",
        "df = pd.read_csv(io.BytesIO(uploaded['discount_code_conversion.csv']))\n",
        "print(df)"
      ],
      "metadata": {
        "colab": {
          "base_uri": "https://localhost:8080/"
        },
        "id": "boLBXCGMrX2D",
        "outputId": "0c422e4e-0fe0-4585-f143-74129203afad"
      },
      "execution_count": 6,
      "outputs": [
        {
          "output_type": "stream",
          "name": "stdout",
          "text": [
            "         id                                         line_items currency  \\\n",
            "0    1556.0  [{\"id\":10840033787965,\"sku\":\"416-07\",\"name\":\"L...      USD   \n",
            "1    6536.0  [{\"id\":12194905915619,\"sku\":\"PG-2PDAPF-NA-K\",\"...      USD   \n",
            "2    5667.0  [{\"id\":12188539191523,\"sku\":\"PG-2PDAPS-NA-K\",\"...      USD   \n",
            "3    5667.0  [{\"id\":12186690453731,\"sku\":\"PG-2PDAPS-NA-K\",\"...      USD   \n",
            "4    5231.0  [{\"id\":11443561889982,\"sku\":\"\",\"name\":\"White -...      USD   \n",
            "..      ...                                                ...      ...   \n",
            "126     NaN  [{\"id\":10551203627110,\"sku\":\"\",\"name\":\"MuscleG...      USD   \n",
            "127     NaN  [{\"id\":10551088250982,\"sku\":\"\",\"name\":\"MuscleG...      USD   \n",
            "128     NaN  [{\"id\":10911504728228,\"sku\":\"SNOOZ-G1-Charcoal...      USD   \n",
            "129  1593.0  [{\"id\":10314220994662,\"sku\":\"\",\"name\":\"MuscleG...      USD   \n",
            "130  1871.0  [{\"id\":10372812177510,\"sku\":\"\",\"name\":\"MuscleG...      USD   \n",
            "\n",
            "                   created_at  total_paid  \\\n",
            "0    2022-05-31T13:50:23.112Z       42786   \n",
            "1    2022-05-30T21:50:24.800Z       13520   \n",
            "2    2022-05-27T18:30:25.012Z       13520   \n",
            "3    2022-05-26T21:50:27.520Z       13520   \n",
            "4    2022-05-25T03:10:24.114Z       50963   \n",
            "..                        ...         ...   \n",
            "126  2021-10-26T01:00:06.015Z       10519   \n",
            "127  2021-10-26T01:00:05.979Z        9807   \n",
            "128  2021-10-23T01:00:10.616Z        4500   \n",
            "129  2021-10-05T10:49:33.312Z       18104   \n",
            "130  2021-10-05T10:49:33.237Z       16286   \n",
            "\n",
            "                                              customer  \\\n",
            "0    {\"id\":5622255321149,\"note\":null,\"tags\":\"\",\"ema...   \n",
            "1    {\"id\":6233242665187,\"note\":null,\"tags\":\"\",\"ema...   \n",
            "2    {\"id\":6249559228643,\"note\":null,\"tags\":\"\",\"ema...   \n",
            "3    {\"id\":6192004890851,\"note\":null,\"tags\":\"\",\"ema...   \n",
            "4    {\"id\":5999557705918,\"note\":null,\"tags\":\"\",\"ema...   \n",
            "..                                                 ...   \n",
            "126  {\"id\":5379503292518,\"note\":null,\"tags\":\"\",\"ema...   \n",
            "127  {\"id\":5379503292518,\"note\":null,\"tags\":\"\",\"ema...   \n",
            "128  {\"id\":5817877954724,\"note\":null,\"tags\":\"\",\"ema...   \n",
            "129  {\"id\":5292522930278,\"note\":null,\"tags\":\"\",\"ema...   \n",
            "130  {\"id\":5312047317094,\"note\":null,\"tags\":\"\",\"ema...   \n",
            "\n",
            "                         email_capture_id conversion_type  \\\n",
            "0                                     NaN      AUTOMATION   \n",
            "1                                     NaN      AUTOMATION   \n",
            "2                                     NaN      AUTOMATION   \n",
            "3                                     NaN      AUTOMATION   \n",
            "4                                     NaN      AUTOMATION   \n",
            "..                                    ...             ...   \n",
            "126                                   NaN      AUTOMATION   \n",
            "127                                   NaN      AUTOMATION   \n",
            "128                                   NaN      AUTOMATION   \n",
            "129  9f84f21f-e40e-47c3-910f-47fbe0acb337      AUTOMATION   \n",
            "130  a6234592-f633-4946-83f1-3e02ed0bdcc1      AUTOMATION   \n",
            "\n",
            "                                        discount_codes  \\\n",
            "0    [{\"code\":\"GLIMPSE-E3B21A\",\"type\":\"percentage\",...   \n",
            "1    [{\"code\":\"GLIMPSE-06A2DE2\",\"type\":\"percentage\"...   \n",
            "2    [{\"code\":\"GLIMPSE-93B7C13\",\"type\":\"percentage\"...   \n",
            "3    [{\"code\":\"GLIMPSE-B21AB07\",\"type\":\"percentage\"...   \n",
            "4    [{\"code\":\"GLIMPSE-236EF39\",\"type\":\"percentage\"...   \n",
            "..                                                 ...   \n",
            "126  {\"code\":\"GLIMPSE-36-R7TY\",\"type\":\"percentage\",...   \n",
            "127  {\"code\":\"GLIMPSE-36-AIYP\",\"type\":\"percentage\",...   \n",
            "128  {\"code\":\"GLIMPSE-10-Z4UD\",\"type\":\"percentage\",...   \n",
            "129  {\"code\":\"GLIMPSE-36-2QD7\",\"type\":\"percentage\",...   \n",
            "130  {\"code\":\"GLIMPSE-36-OLSJ\",\"type\":\"percentage\",...   \n",
            "\n",
            "                                      name                       email  \\\n",
            "0                  Luxome Luxury Sheet Set                         NaN   \n",
            "1    Pillow Guy - Down Alternative Pillows                         NaN   \n",
            "2           Pillow Guy Luxe Bedding Bundle                         NaN   \n",
            "3           Pillow Guy Luxe Bedding Bundle                         NaN   \n",
            "4                     Hibernate Sheet Sets                         NaN   \n",
            "..                                     ...                         ...   \n",
            "126                             MuscleGuns                         NaN   \n",
            "127                             MuscleGuns                         NaN   \n",
            "128                                  Snooz                         NaN   \n",
            "129                             MuscleGuns         kushnickg@gmail.com   \n",
            "130                             MuscleGuns  mahler.scholar@hotmail.com   \n",
            "\n",
            "    first_name  \n",
            "0         Elsa  \n",
            "1       Jackie  \n",
            "2      Suzette  \n",
            "3      Suzette  \n",
            "4         Lynn  \n",
            "..         ...  \n",
            "126        NaN  \n",
            "127        NaN  \n",
            "128        NaN  \n",
            "129       Kali  \n",
            "130       Jake  \n",
            "\n",
            "[131 rows x 12 columns]\n"
          ]
        }
      ]
    },
    {
      "cell_type": "code",
      "source": [
        "df.head(10)"
      ],
      "metadata": {
        "colab": {
          "base_uri": "https://localhost:8080/",
          "height": 826
        },
        "id": "kCg5KURyr3kR",
        "outputId": "40b731c8-85ce-4ded-9aab-1858fa66f0f4"
      },
      "execution_count": 7,
      "outputs": [
        {
          "output_type": "execute_result",
          "data": {
            "text/plain": [
              "       id                                         line_items currency  \\\n",
              "0  1556.0  [{\"id\":10840033787965,\"sku\":\"416-07\",\"name\":\"L...      USD   \n",
              "1  6536.0  [{\"id\":12194905915619,\"sku\":\"PG-2PDAPF-NA-K\",\"...      USD   \n",
              "2  5667.0  [{\"id\":12188539191523,\"sku\":\"PG-2PDAPS-NA-K\",\"...      USD   \n",
              "3  5667.0  [{\"id\":12186690453731,\"sku\":\"PG-2PDAPS-NA-K\",\"...      USD   \n",
              "4  5231.0  [{\"id\":11443561889982,\"sku\":\"\",\"name\":\"White -...      USD   \n",
              "5  1556.0  [{\"id\":10817693057085,\"sku\":\"418-07\",\"name\":\"L...      USD   \n",
              "6  3697.0  [{\"id\":10814980587581,\"sku\":\"416-09\",\"name\":\"L...      USD   \n",
              "7  3225.0  [{\"id\":10813285695549,\"sku\":\"406-11\",\"name\":\"L...      USD   \n",
              "8  1564.0  [{\"id\":12170728800483,\"sku\":\"PG-4TWL-CH-2HND-2...      USD   \n",
              "9  5636.0  [{\"id\":11422664065214,\"sku\":\"\",\"name\":\"White -...      USD   \n",
              "\n",
              "                 created_at  total_paid  \\\n",
              "0  2022-05-31T13:50:23.112Z       42786   \n",
              "1  2022-05-30T21:50:24.800Z       13520   \n",
              "2  2022-05-27T18:30:25.012Z       13520   \n",
              "3  2022-05-26T21:50:27.520Z       13520   \n",
              "4  2022-05-25T03:10:24.114Z       50963   \n",
              "5  2022-05-23T08:10:22.231Z       14586   \n",
              "6  2022-05-22T02:00:20.847Z       13342   \n",
              "7  2022-05-21T13:00:19.751Z       18579   \n",
              "8  2022-05-17T23:00:23.864Z       12038   \n",
              "9  2022-05-17T19:50:24.115Z        6195   \n",
              "\n",
              "                                            customer  \\\n",
              "0  {\"id\":5622255321149,\"note\":null,\"tags\":\"\",\"ema...   \n",
              "1  {\"id\":6233242665187,\"note\":null,\"tags\":\"\",\"ema...   \n",
              "2  {\"id\":6249559228643,\"note\":null,\"tags\":\"\",\"ema...   \n",
              "3  {\"id\":6192004890851,\"note\":null,\"tags\":\"\",\"ema...   \n",
              "4  {\"id\":5999557705918,\"note\":null,\"tags\":\"\",\"ema...   \n",
              "5  {\"id\":5613179404349,\"note\":null,\"tags\":\"\",\"ema...   \n",
              "6  {\"id\":5612037898301,\"note\":null,\"tags\":\"\",\"ema...   \n",
              "7  {\"id\":5611420254269,\"note\":null,\"tags\":\"\",\"ema...   \n",
              "8  {\"id\":6236790685923,\"note\":null,\"tags\":\"\",\"ema...   \n",
              "9  {\"id\":5989183324350,\"note\":null,\"tags\":\"\",\"ema...   \n",
              "\n",
              "                       email_capture_id conversion_type  \\\n",
              "0                                   NaN      AUTOMATION   \n",
              "1                                   NaN      AUTOMATION   \n",
              "2                                   NaN      AUTOMATION   \n",
              "3                                   NaN      AUTOMATION   \n",
              "4                                   NaN      AUTOMATION   \n",
              "5                                   NaN      AUTOMATION   \n",
              "6  8ab50796-b4ba-4102-ad59-d0a10093a357      AUTOMATION   \n",
              "7                                   NaN      AUTOMATION   \n",
              "8                                   NaN      AUTOMATION   \n",
              "9                                   NaN      AUTOMATION   \n",
              "\n",
              "                                      discount_codes  \\\n",
              "0  [{\"code\":\"GLIMPSE-E3B21A\",\"type\":\"percentage\",...   \n",
              "1  [{\"code\":\"GLIMPSE-06A2DE2\",\"type\":\"percentage\"...   \n",
              "2  [{\"code\":\"GLIMPSE-93B7C13\",\"type\":\"percentage\"...   \n",
              "3  [{\"code\":\"GLIMPSE-B21AB07\",\"type\":\"percentage\"...   \n",
              "4  [{\"code\":\"GLIMPSE-236EF39\",\"type\":\"percentage\"...   \n",
              "5  [{\"code\":\"GLIMPSE-C15C91\",\"type\":\"percentage\",...   \n",
              "6  [{\"code\":\"GLIMPSE-39D0D7\",\"type\":\"percentage\",...   \n",
              "7  [{\"code\":\"GLIMPSE-E6AAEE\",\"type\":\"percentage\",...   \n",
              "8  [{\"code\":\"GLIMPSE-i91ZR\",\"type\":\"percentage\",\"...   \n",
              "9  [{\"code\":\"GLIMPSE-HVPFN\",\"type\":\"percentage\",\"...   \n",
              "\n",
              "                                    name                         email  \\\n",
              "0                Luxome Luxury Sheet Set                           NaN   \n",
              "1  Pillow Guy - Down Alternative Pillows                           NaN   \n",
              "2         Pillow Guy Luxe Bedding Bundle                           NaN   \n",
              "3         Pillow Guy Luxe Bedding Bundle                           NaN   \n",
              "4                   Hibernate Sheet Sets                           NaN   \n",
              "5                Luxome Luxury Sheet Set                           NaN   \n",
              "6                Luxome Luxury Sheet Set  refreshcleaningatx@gmail.com   \n",
              "7                Luxome Luxury Sheet Set                           NaN   \n",
              "8    Pillow Guy Bamboo Bath & Hand Towel                           NaN   \n",
              "9                   Hibernate Sheet Sets                           NaN   \n",
              "\n",
              "  first_name  \n",
              "0       Elsa  \n",
              "1     Jackie  \n",
              "2    Suzette  \n",
              "3    Suzette  \n",
              "4       Lynn  \n",
              "5       Elsa  \n",
              "6     Lauren  \n",
              "7     Hannah  \n",
              "8     Debbie  \n",
              "9    Miranda  "
            ],
            "text/html": [
              "\n",
              "  <div id=\"df-8613a0ad-13b7-4acc-86cb-9fa736292f8c\">\n",
              "    <div class=\"colab-df-container\">\n",
              "      <div>\n",
              "<style scoped>\n",
              "    .dataframe tbody tr th:only-of-type {\n",
              "        vertical-align: middle;\n",
              "    }\n",
              "\n",
              "    .dataframe tbody tr th {\n",
              "        vertical-align: top;\n",
              "    }\n",
              "\n",
              "    .dataframe thead th {\n",
              "        text-align: right;\n",
              "    }\n",
              "</style>\n",
              "<table border=\"1\" class=\"dataframe\">\n",
              "  <thead>\n",
              "    <tr style=\"text-align: right;\">\n",
              "      <th></th>\n",
              "      <th>id</th>\n",
              "      <th>line_items</th>\n",
              "      <th>currency</th>\n",
              "      <th>created_at</th>\n",
              "      <th>total_paid</th>\n",
              "      <th>customer</th>\n",
              "      <th>email_capture_id</th>\n",
              "      <th>conversion_type</th>\n",
              "      <th>discount_codes</th>\n",
              "      <th>name</th>\n",
              "      <th>email</th>\n",
              "      <th>first_name</th>\n",
              "    </tr>\n",
              "  </thead>\n",
              "  <tbody>\n",
              "    <tr>\n",
              "      <th>0</th>\n",
              "      <td>1556.0</td>\n",
              "      <td>[{\"id\":10840033787965,\"sku\":\"416-07\",\"name\":\"L...</td>\n",
              "      <td>USD</td>\n",
              "      <td>2022-05-31T13:50:23.112Z</td>\n",
              "      <td>42786</td>\n",
              "      <td>{\"id\":5622255321149,\"note\":null,\"tags\":\"\",\"ema...</td>\n",
              "      <td>NaN</td>\n",
              "      <td>AUTOMATION</td>\n",
              "      <td>[{\"code\":\"GLIMPSE-E3B21A\",\"type\":\"percentage\",...</td>\n",
              "      <td>Luxome Luxury Sheet Set</td>\n",
              "      <td>NaN</td>\n",
              "      <td>Elsa</td>\n",
              "    </tr>\n",
              "    <tr>\n",
              "      <th>1</th>\n",
              "      <td>6536.0</td>\n",
              "      <td>[{\"id\":12194905915619,\"sku\":\"PG-2PDAPF-NA-K\",\"...</td>\n",
              "      <td>USD</td>\n",
              "      <td>2022-05-30T21:50:24.800Z</td>\n",
              "      <td>13520</td>\n",
              "      <td>{\"id\":6233242665187,\"note\":null,\"tags\":\"\",\"ema...</td>\n",
              "      <td>NaN</td>\n",
              "      <td>AUTOMATION</td>\n",
              "      <td>[{\"code\":\"GLIMPSE-06A2DE2\",\"type\":\"percentage\"...</td>\n",
              "      <td>Pillow Guy - Down Alternative Pillows</td>\n",
              "      <td>NaN</td>\n",
              "      <td>Jackie</td>\n",
              "    </tr>\n",
              "    <tr>\n",
              "      <th>2</th>\n",
              "      <td>5667.0</td>\n",
              "      <td>[{\"id\":12188539191523,\"sku\":\"PG-2PDAPS-NA-K\",\"...</td>\n",
              "      <td>USD</td>\n",
              "      <td>2022-05-27T18:30:25.012Z</td>\n",
              "      <td>13520</td>\n",
              "      <td>{\"id\":6249559228643,\"note\":null,\"tags\":\"\",\"ema...</td>\n",
              "      <td>NaN</td>\n",
              "      <td>AUTOMATION</td>\n",
              "      <td>[{\"code\":\"GLIMPSE-93B7C13\",\"type\":\"percentage\"...</td>\n",
              "      <td>Pillow Guy Luxe Bedding Bundle</td>\n",
              "      <td>NaN</td>\n",
              "      <td>Suzette</td>\n",
              "    </tr>\n",
              "    <tr>\n",
              "      <th>3</th>\n",
              "      <td>5667.0</td>\n",
              "      <td>[{\"id\":12186690453731,\"sku\":\"PG-2PDAPS-NA-K\",\"...</td>\n",
              "      <td>USD</td>\n",
              "      <td>2022-05-26T21:50:27.520Z</td>\n",
              "      <td>13520</td>\n",
              "      <td>{\"id\":6192004890851,\"note\":null,\"tags\":\"\",\"ema...</td>\n",
              "      <td>NaN</td>\n",
              "      <td>AUTOMATION</td>\n",
              "      <td>[{\"code\":\"GLIMPSE-B21AB07\",\"type\":\"percentage\"...</td>\n",
              "      <td>Pillow Guy Luxe Bedding Bundle</td>\n",
              "      <td>NaN</td>\n",
              "      <td>Suzette</td>\n",
              "    </tr>\n",
              "    <tr>\n",
              "      <th>4</th>\n",
              "      <td>5231.0</td>\n",
              "      <td>[{\"id\":11443561889982,\"sku\":\"\",\"name\":\"White -...</td>\n",
              "      <td>USD</td>\n",
              "      <td>2022-05-25T03:10:24.114Z</td>\n",
              "      <td>50963</td>\n",
              "      <td>{\"id\":5999557705918,\"note\":null,\"tags\":\"\",\"ema...</td>\n",
              "      <td>NaN</td>\n",
              "      <td>AUTOMATION</td>\n",
              "      <td>[{\"code\":\"GLIMPSE-236EF39\",\"type\":\"percentage\"...</td>\n",
              "      <td>Hibernate Sheet Sets</td>\n",
              "      <td>NaN</td>\n",
              "      <td>Lynn</td>\n",
              "    </tr>\n",
              "    <tr>\n",
              "      <th>5</th>\n",
              "      <td>1556.0</td>\n",
              "      <td>[{\"id\":10817693057085,\"sku\":\"418-07\",\"name\":\"L...</td>\n",
              "      <td>USD</td>\n",
              "      <td>2022-05-23T08:10:22.231Z</td>\n",
              "      <td>14586</td>\n",
              "      <td>{\"id\":5613179404349,\"note\":null,\"tags\":\"\",\"ema...</td>\n",
              "      <td>NaN</td>\n",
              "      <td>AUTOMATION</td>\n",
              "      <td>[{\"code\":\"GLIMPSE-C15C91\",\"type\":\"percentage\",...</td>\n",
              "      <td>Luxome Luxury Sheet Set</td>\n",
              "      <td>NaN</td>\n",
              "      <td>Elsa</td>\n",
              "    </tr>\n",
              "    <tr>\n",
              "      <th>6</th>\n",
              "      <td>3697.0</td>\n",
              "      <td>[{\"id\":10814980587581,\"sku\":\"416-09\",\"name\":\"L...</td>\n",
              "      <td>USD</td>\n",
              "      <td>2022-05-22T02:00:20.847Z</td>\n",
              "      <td>13342</td>\n",
              "      <td>{\"id\":5612037898301,\"note\":null,\"tags\":\"\",\"ema...</td>\n",
              "      <td>8ab50796-b4ba-4102-ad59-d0a10093a357</td>\n",
              "      <td>AUTOMATION</td>\n",
              "      <td>[{\"code\":\"GLIMPSE-39D0D7\",\"type\":\"percentage\",...</td>\n",
              "      <td>Luxome Luxury Sheet Set</td>\n",
              "      <td>refreshcleaningatx@gmail.com</td>\n",
              "      <td>Lauren</td>\n",
              "    </tr>\n",
              "    <tr>\n",
              "      <th>7</th>\n",
              "      <td>3225.0</td>\n",
              "      <td>[{\"id\":10813285695549,\"sku\":\"406-11\",\"name\":\"L...</td>\n",
              "      <td>USD</td>\n",
              "      <td>2022-05-21T13:00:19.751Z</td>\n",
              "      <td>18579</td>\n",
              "      <td>{\"id\":5611420254269,\"note\":null,\"tags\":\"\",\"ema...</td>\n",
              "      <td>NaN</td>\n",
              "      <td>AUTOMATION</td>\n",
              "      <td>[{\"code\":\"GLIMPSE-E6AAEE\",\"type\":\"percentage\",...</td>\n",
              "      <td>Luxome Luxury Sheet Set</td>\n",
              "      <td>NaN</td>\n",
              "      <td>Hannah</td>\n",
              "    </tr>\n",
              "    <tr>\n",
              "      <th>8</th>\n",
              "      <td>1564.0</td>\n",
              "      <td>[{\"id\":12170728800483,\"sku\":\"PG-4TWL-CH-2HND-2...</td>\n",
              "      <td>USD</td>\n",
              "      <td>2022-05-17T23:00:23.864Z</td>\n",
              "      <td>12038</td>\n",
              "      <td>{\"id\":6236790685923,\"note\":null,\"tags\":\"\",\"ema...</td>\n",
              "      <td>NaN</td>\n",
              "      <td>AUTOMATION</td>\n",
              "      <td>[{\"code\":\"GLIMPSE-i91ZR\",\"type\":\"percentage\",\"...</td>\n",
              "      <td>Pillow Guy Bamboo Bath &amp; Hand Towel</td>\n",
              "      <td>NaN</td>\n",
              "      <td>Debbie</td>\n",
              "    </tr>\n",
              "    <tr>\n",
              "      <th>9</th>\n",
              "      <td>5636.0</td>\n",
              "      <td>[{\"id\":11422664065214,\"sku\":\"\",\"name\":\"White -...</td>\n",
              "      <td>USD</td>\n",
              "      <td>2022-05-17T19:50:24.115Z</td>\n",
              "      <td>6195</td>\n",
              "      <td>{\"id\":5989183324350,\"note\":null,\"tags\":\"\",\"ema...</td>\n",
              "      <td>NaN</td>\n",
              "      <td>AUTOMATION</td>\n",
              "      <td>[{\"code\":\"GLIMPSE-HVPFN\",\"type\":\"percentage\",\"...</td>\n",
              "      <td>Hibernate Sheet Sets</td>\n",
              "      <td>NaN</td>\n",
              "      <td>Miranda</td>\n",
              "    </tr>\n",
              "  </tbody>\n",
              "</table>\n",
              "</div>\n",
              "      <button class=\"colab-df-convert\" onclick=\"convertToInteractive('df-8613a0ad-13b7-4acc-86cb-9fa736292f8c')\"\n",
              "              title=\"Convert this dataframe to an interactive table.\"\n",
              "              style=\"display:none;\">\n",
              "        \n",
              "  <svg xmlns=\"http://www.w3.org/2000/svg\" height=\"24px\"viewBox=\"0 0 24 24\"\n",
              "       width=\"24px\">\n",
              "    <path d=\"M0 0h24v24H0V0z\" fill=\"none\"/>\n",
              "    <path d=\"M18.56 5.44l.94 2.06.94-2.06 2.06-.94-2.06-.94-.94-2.06-.94 2.06-2.06.94zm-11 1L8.5 8.5l.94-2.06 2.06-.94-2.06-.94L8.5 2.5l-.94 2.06-2.06.94zm10 10l.94 2.06.94-2.06 2.06-.94-2.06-.94-.94-2.06-.94 2.06-2.06.94z\"/><path d=\"M17.41 7.96l-1.37-1.37c-.4-.4-.92-.59-1.43-.59-.52 0-1.04.2-1.43.59L10.3 9.45l-7.72 7.72c-.78.78-.78 2.05 0 2.83L4 21.41c.39.39.9.59 1.41.59.51 0 1.02-.2 1.41-.59l7.78-7.78 2.81-2.81c.8-.78.8-2.07 0-2.86zM5.41 20L4 18.59l7.72-7.72 1.47 1.35L5.41 20z\"/>\n",
              "  </svg>\n",
              "      </button>\n",
              "      \n",
              "  <style>\n",
              "    .colab-df-container {\n",
              "      display:flex;\n",
              "      flex-wrap:wrap;\n",
              "      gap: 12px;\n",
              "    }\n",
              "\n",
              "    .colab-df-convert {\n",
              "      background-color: #E8F0FE;\n",
              "      border: none;\n",
              "      border-radius: 50%;\n",
              "      cursor: pointer;\n",
              "      display: none;\n",
              "      fill: #1967D2;\n",
              "      height: 32px;\n",
              "      padding: 0 0 0 0;\n",
              "      width: 32px;\n",
              "    }\n",
              "\n",
              "    .colab-df-convert:hover {\n",
              "      background-color: #E2EBFA;\n",
              "      box-shadow: 0px 1px 2px rgba(60, 64, 67, 0.3), 0px 1px 3px 1px rgba(60, 64, 67, 0.15);\n",
              "      fill: #174EA6;\n",
              "    }\n",
              "\n",
              "    [theme=dark] .colab-df-convert {\n",
              "      background-color: #3B4455;\n",
              "      fill: #D2E3FC;\n",
              "    }\n",
              "\n",
              "    [theme=dark] .colab-df-convert:hover {\n",
              "      background-color: #434B5C;\n",
              "      box-shadow: 0px 1px 3px 1px rgba(0, 0, 0, 0.15);\n",
              "      filter: drop-shadow(0px 1px 2px rgba(0, 0, 0, 0.3));\n",
              "      fill: #FFFFFF;\n",
              "    }\n",
              "  </style>\n",
              "\n",
              "      <script>\n",
              "        const buttonEl =\n",
              "          document.querySelector('#df-8613a0ad-13b7-4acc-86cb-9fa736292f8c button.colab-df-convert');\n",
              "        buttonEl.style.display =\n",
              "          google.colab.kernel.accessAllowed ? 'block' : 'none';\n",
              "\n",
              "        async function convertToInteractive(key) {\n",
              "          const element = document.querySelector('#df-8613a0ad-13b7-4acc-86cb-9fa736292f8c');\n",
              "          const dataTable =\n",
              "            await google.colab.kernel.invokeFunction('convertToInteractive',\n",
              "                                                     [key], {});\n",
              "          if (!dataTable) return;\n",
              "\n",
              "          const docLinkHtml = 'Like what you see? Visit the ' +\n",
              "            '<a target=\"_blank\" href=https://colab.research.google.com/notebooks/data_table.ipynb>data table notebook</a>'\n",
              "            + ' to learn more about interactive tables.';\n",
              "          element.innerHTML = '';\n",
              "          dataTable['output_type'] = 'display_data';\n",
              "          await google.colab.output.renderOutput(dataTable, element);\n",
              "          const docLink = document.createElement('div');\n",
              "          docLink.innerHTML = docLinkHtml;\n",
              "          element.appendChild(docLink);\n",
              "        }\n",
              "      </script>\n",
              "    </div>\n",
              "  </div>\n",
              "  "
            ]
          },
          "metadata": {},
          "execution_count": 7
        }
      ]
    },
    {
      "cell_type": "code",
      "source": [
        "import seaborn as sns\n",
        "import numpy as np\n",
        "import matplotlib.pyplot as pyplot"
      ],
      "metadata": {
        "id": "ByrYepRdsFpU"
      },
      "execution_count": 8,
      "outputs": []
    },
    {
      "cell_type": "code",
      "source": [
        "df['name'].unique()"
      ],
      "metadata": {
        "colab": {
          "base_uri": "https://localhost:8080/"
        },
        "id": "20z7VqdbsiYF",
        "outputId": "878af87c-0437-4fab-d8f2-2bc69f9c2e12"
      },
      "execution_count": 9,
      "outputs": [
        {
          "output_type": "execute_result",
          "data": {
            "text/plain": [
              "array(['Luxome Luxury Sheet Set', 'Pillow Guy - Down Alternative Pillows',\n",
              "       'Pillow Guy Luxe Bedding Bundle', 'Hibernate Sheet Sets',\n",
              "       'Pillow Guy Bamboo Bath & Hand Towel', 'Lyric Massager',\n",
              "       'Downlite Microfiber Gel Pillow', 'Gravity Blankets offer',\n",
              "       'Luxome Weighted Blanket', 'MuscleGuns', 'Luxome Pillow',\n",
              "       'Luxome Towels', 'Luxome Light Weight Blankets',\n",
              "       'T3 Ultimate Style Smarter', 'Purple Bundle', 'Lyric', 'Snooz',\n",
              "       'Drinkworks', 'Molekule Air Mini+'], dtype=object)"
            ]
          },
          "metadata": {},
          "execution_count": 9
        }
      ]
    },
    {
      "cell_type": "code",
      "source": [
        "df.count()"
      ],
      "metadata": {
        "colab": {
          "base_uri": "https://localhost:8080/"
        },
        "id": "gUf-WEZdsqL7",
        "outputId": "0967b844-b94c-425d-d21e-bf086b26e77d"
      },
      "execution_count": 10,
      "outputs": [
        {
          "output_type": "execute_result",
          "data": {
            "text/plain": [
              "id                  107\n",
              "line_items          131\n",
              "currency            131\n",
              "created_at          131\n",
              "total_paid          131\n",
              "customer            131\n",
              "email_capture_id      9\n",
              "conversion_type     131\n",
              "discount_codes       83\n",
              "name                131\n",
              "email                 9\n",
              "first_name           95\n",
              "dtype: int64"
            ]
          },
          "metadata": {},
          "execution_count": 10
        }
      ]
    },
    {
      "cell_type": "code",
      "source": [
        "df.info()"
      ],
      "metadata": {
        "colab": {
          "base_uri": "https://localhost:8080/"
        },
        "id": "6QRazi6iqKi-",
        "outputId": "aecd4ae3-650f-4832-ab69-8cdbfeb3b259"
      },
      "execution_count": 11,
      "outputs": [
        {
          "output_type": "stream",
          "name": "stdout",
          "text": [
            "<class 'pandas.core.frame.DataFrame'>\n",
            "RangeIndex: 131 entries, 0 to 130\n",
            "Data columns (total 12 columns):\n",
            " #   Column            Non-Null Count  Dtype  \n",
            "---  ------            --------------  -----  \n",
            " 0   id                107 non-null    float64\n",
            " 1   line_items        131 non-null    object \n",
            " 2   currency          131 non-null    object \n",
            " 3   created_at        131 non-null    object \n",
            " 4   total_paid        131 non-null    int64  \n",
            " 5   customer          131 non-null    object \n",
            " 6   email_capture_id  9 non-null      object \n",
            " 7   conversion_type   131 non-null    object \n",
            " 8   discount_codes    83 non-null     object \n",
            " 9   name              131 non-null    object \n",
            " 10  email             9 non-null      object \n",
            " 11  first_name        95 non-null     object \n",
            "dtypes: float64(1), int64(1), object(10)\n",
            "memory usage: 12.4+ KB\n"
          ]
        }
      ]
    },
    {
      "cell_type": "code",
      "source": [
        "print(df.groupby(['name']).count())"
      ],
      "metadata": {
        "colab": {
          "base_uri": "https://localhost:8080/"
        },
        "id": "mOQ_XrTutjcX",
        "outputId": "075d5955-3a45-4565-b602-e75b5f4ab63e"
      },
      "execution_count": 12,
      "outputs": [
        {
          "output_type": "stream",
          "name": "stdout",
          "text": [
            "                                       id  line_items  currency  created_at  \\\n",
            "name                                                                          \n",
            "Downlite Microfiber Gel Pillow          0           1         1           1   \n",
            "Drinkworks                              1           1         1           1   \n",
            "Gravity Blankets offer                  0           2         2           2   \n",
            "Hibernate Sheet Sets                    6           7         7           7   \n",
            "Luxome Light Weight Blankets            1           1         1           1   \n",
            "Luxome Luxury Sheet Set                22          24        24          24   \n",
            "Luxome Pillow                           0           1         1           1   \n",
            "Luxome Towels                           1           1         1           1   \n",
            "Luxome Weighted Blanket                15          22        22          22   \n",
            "Lyric                                   6           6         6           6   \n",
            "Lyric Massager                         13          13        13          13   \n",
            "Molekule Air Mini+                      4           4         4           4   \n",
            "MuscleGuns                              4          10        10          10   \n",
            "Pillow Guy - Down Alternative Pillows   1           1         1           1   \n",
            "Pillow Guy Bamboo Bath & Hand Towel     1           2         2           2   \n",
            "Pillow Guy Luxe Bedding Bundle          3           3         3           3   \n",
            "Purple Bundle                          13          13        13          13   \n",
            "Snooz                                   1           4         4           4   \n",
            "T3 Ultimate Style Smarter              15          15        15          15   \n",
            "\n",
            "                                       total_paid  customer  email_capture_id  \\\n",
            "name                                                                            \n",
            "Downlite Microfiber Gel Pillow                  1         1                 0   \n",
            "Drinkworks                                      1         1                 0   \n",
            "Gravity Blankets offer                          2         2                 0   \n",
            "Hibernate Sheet Sets                            7         7                 0   \n",
            "Luxome Light Weight Blankets                    1         1                 0   \n",
            "Luxome Luxury Sheet Set                        24        24                 3   \n",
            "Luxome Pillow                                   1         1                 0   \n",
            "Luxome Towels                                   1         1                 0   \n",
            "Luxome Weighted Blanket                        22        22                 3   \n",
            "Lyric                                           6         6                 0   \n",
            "Lyric Massager                                 13        13                 1   \n",
            "Molekule Air Mini+                              4         4                 0   \n",
            "MuscleGuns                                     10        10                 2   \n",
            "Pillow Guy - Down Alternative Pillows           1         1                 0   \n",
            "Pillow Guy Bamboo Bath & Hand Towel             2         2                 0   \n",
            "Pillow Guy Luxe Bedding Bundle                  3         3                 0   \n",
            "Purple Bundle                                  13        13                 0   \n",
            "Snooz                                           4         4                 0   \n",
            "T3 Ultimate Style Smarter                      15        15                 0   \n",
            "\n",
            "                                       conversion_type  discount_codes  email  \\\n",
            "name                                                                            \n",
            "Downlite Microfiber Gel Pillow                       1               1      0   \n",
            "Drinkworks                                           1               0      0   \n",
            "Gravity Blankets offer                               2               1      0   \n",
            "Hibernate Sheet Sets                                 7               7      0   \n",
            "Luxome Light Weight Blankets                         1               1      0   \n",
            "Luxome Luxury Sheet Set                             24              23      3   \n",
            "Luxome Pillow                                        1               1      0   \n",
            "Luxome Towels                                        1               1      0   \n",
            "Luxome Weighted Blanket                             22              16      3   \n",
            "Lyric                                                6               2      0   \n",
            "Lyric Massager                                      13              13      1   \n",
            "Molekule Air Mini+                                   4               0      0   \n",
            "MuscleGuns                                          10               8      2   \n",
            "Pillow Guy - Down Alternative Pillows                1               1      0   \n",
            "Pillow Guy Bamboo Bath & Hand Towel                  2               2      0   \n",
            "Pillow Guy Luxe Bedding Bundle                       3               3      0   \n",
            "Purple Bundle                                       13               0      0   \n",
            "Snooz                                                4               3      0   \n",
            "T3 Ultimate Style Smarter                           15               0      0   \n",
            "\n",
            "                                       first_name  \n",
            "name                                               \n",
            "Downlite Microfiber Gel Pillow                  0  \n",
            "Drinkworks                                      1  \n",
            "Gravity Blankets offer                          0  \n",
            "Hibernate Sheet Sets                            6  \n",
            "Luxome Light Weight Blankets                    1  \n",
            "Luxome Luxury Sheet Set                        20  \n",
            "Luxome Pillow                                   0  \n",
            "Luxome Towels                                   1  \n",
            "Luxome Weighted Blanket                        15  \n",
            "Lyric                                           6  \n",
            "Lyric Massager                                  3  \n",
            "Molekule Air Mini+                              4  \n",
            "MuscleGuns                                      4  \n",
            "Pillow Guy - Down Alternative Pillows           1  \n",
            "Pillow Guy Bamboo Bath & Hand Towel             1  \n",
            "Pillow Guy Luxe Bedding Bundle                  3  \n",
            "Purple Bundle                                  13  \n",
            "Snooz                                           1  \n",
            "T3 Ultimate Style Smarter                      15  \n"
          ]
        }
      ]
    },
    {
      "cell_type": "code",
      "source": [
        "from tabulate import tabulate\n",
        "print(tabulate(df.groupby(['name']).count()))"
      ],
      "metadata": {
        "colab": {
          "base_uri": "https://localhost:8080/"
        },
        "id": "xYxah3VHu46l",
        "outputId": "2258975b-6d5c-4c74-e4af-81cfa3c65999"
      },
      "execution_count": 13,
      "outputs": [
        {
          "output_type": "stream",
          "name": "stdout",
          "text": [
            "-------------------------------------  --  --  --  --  --  --  -  --  --  -  --\n",
            "Downlite Microfiber Gel Pillow          0   1   1   1   1   1  0   1   1  0   0\n",
            "Drinkworks                              1   1   1   1   1   1  0   1   0  0   1\n",
            "Gravity Blankets offer                  0   2   2   2   2   2  0   2   1  0   0\n",
            "Hibernate Sheet Sets                    6   7   7   7   7   7  0   7   7  0   6\n",
            "Luxome Light Weight Blankets            1   1   1   1   1   1  0   1   1  0   1\n",
            "Luxome Luxury Sheet Set                22  24  24  24  24  24  3  24  23  3  20\n",
            "Luxome Pillow                           0   1   1   1   1   1  0   1   1  0   0\n",
            "Luxome Towels                           1   1   1   1   1   1  0   1   1  0   1\n",
            "Luxome Weighted Blanket                15  22  22  22  22  22  3  22  16  3  15\n",
            "Lyric                                   6   6   6   6   6   6  0   6   2  0   6\n",
            "Lyric Massager                         13  13  13  13  13  13  1  13  13  1   3\n",
            "Molekule Air Mini+                      4   4   4   4   4   4  0   4   0  0   4\n",
            "MuscleGuns                              4  10  10  10  10  10  2  10   8  2   4\n",
            "Pillow Guy - Down Alternative Pillows   1   1   1   1   1   1  0   1   1  0   1\n",
            "Pillow Guy Bamboo Bath & Hand Towel     1   2   2   2   2   2  0   2   2  0   1\n",
            "Pillow Guy Luxe Bedding Bundle          3   3   3   3   3   3  0   3   3  0   3\n",
            "Purple Bundle                          13  13  13  13  13  13  0  13   0  0  13\n",
            "Snooz                                   1   4   4   4   4   4  0   4   3  0   1\n",
            "T3 Ultimate Style Smarter              15  15  15  15  15  15  0  15   0  0  15\n",
            "-------------------------------------  --  --  --  --  --  --  -  --  --  -  --\n"
          ]
        }
      ]
    },
    {
      "cell_type": "code",
      "source": [
        "df1 = tabulate(df.groupby(['name']).count())\n",
        "pyplot.plot(df1)"
      ],
      "metadata": {
        "colab": {
          "base_uri": "https://localhost:8080/",
          "height": 293
        },
        "id": "nP_ELjVaRTYo",
        "outputId": "c7b9704a-c092-4b0c-906c-e21500cbabf0"
      },
      "execution_count": 18,
      "outputs": [
        {
          "output_type": "execute_result",
          "data": {
            "text/plain": [
              "[<matplotlib.lines.Line2D at 0x7f57654986d0>]"
            ]
          },
          "metadata": {},
          "execution_count": 18
        },
        {
          "output_type": "display_data",
          "data": {
            "text/plain": [
              "<Figure size 432x288 with 1 Axes>"
            ],
            "image/png": "[encoded data removed]"
          },
          "metadata": {
            "needs_background": "light"
          }
        }
      ]
    }
  ]
}